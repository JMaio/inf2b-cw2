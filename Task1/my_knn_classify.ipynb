{
 "cells": [
  {
   "cell_type": "markdown",
   "metadata": {},
   "source": [
    "# Task 1 – K-NN classification"
   ]
  },
  {
   "cell_type": "markdown",
   "metadata": {},
   "source": [
    "## Task 1.1"
   ]
  },
  {
   "cell_type": "code",
   "execution_count": 10,
   "metadata": {},
   "outputs": [],
   "source": [
    "import numpy as np\n",
    "import scipy.io as sio                       # for loading matlab files\n",
    "from collections import Counter"
   ]
  },
  {
   "cell_type": "code",
   "execution_count": 2,
   "metadata": {
    "scrolled": false
   },
   "outputs": [],
   "source": [
    "path = \"../data.mat\"\n",
    "data = sio.loadmat(path) # load data\n",
    "\n",
    "(Xtrn255, Ctrn) = data['dataset']['train'][0][0][0][0] # maps to training set & labels\n",
    "#                                                       (strange to have to go so deep)\n",
    "(Xtst255, Ctst) = data['dataset']['test'][0][0][0][0]  # maps to test set & labels\n",
    "\n",
    "# normalise values as directed:\n",
    "Xtrn = np.array(np.divide(Xtrn255, 255.0), dtype=np.float_)\n",
    "Ctrn = np.array(Ctrn, dtype=np.int_)\n",
    "\n",
    "Xtst = np.array(np.divide(Xtst255, 255.0), dtype=np.float_)\n",
    "Ctst = np.array(Ctst, dtype=np.int_)\n",
    "\n",
    "# not using types\n",
    "# Xtrn = np.array(np.divide(Xtrn255, 255.0))\n",
    "# Ctrn = np.array(Ctrn)\n",
    "\n",
    "# Xtst = np.array(np.divide(Xtst255, 255.0))\n",
    "# Ctst = np.array(Ctst)"
   ]
  },
  {
   "cell_type": "code",
   "execution_count": 3,
   "metadata": {},
   "outputs": [],
   "source": [
    "def MySqDist(Xtrn, Xtst):\n",
    "# optimise by expressing as matrix operarions\n",
    "#     (Xtrn-Xtst)^2 = Xtrn^2 + Xtst^2 - 2(Xtrn * Xtst)\n",
    "    \n",
    "#     Xtrn^2 = np.sum(Xtrn ** 2, axis=1)[:, np.newaxis] # lengths of all training vectors\n",
    "    \n",
    "#     Xtst^2 = np.sum(Xtst ** 2, axis=1)                # lengths of all test vectors\n",
    "    \n",
    "#     Xtrn * Xtst = np.dot(Xtrn, Xtst.T)                # matrix product of sums of products\n",
    "    \n",
    "    return (np.sum(Xtrn ** 2, axis=1)[:, np.newaxis]\n",
    "          + np.sum(Xtst ** 2, axis=1)\n",
    "          - 2 * np.dot(Xtrn, Xtst.T))"
   ]
  },
  {
   "cell_type": "code",
   "execution_count": 4,
   "metadata": {
    "scrolled": false
   },
   "outputs": [
    {
     "name": "stdout",
     "output_type": "stream",
     "text": [
      "((2, 3), (3, 3))\n",
      "[[  0  27]\n",
      " [ 27   0]\n",
      " [108  27]]\n",
      "CPU times: user 0 ns, sys: 0 ns, total: 0 ns\n",
      "Wall time: 378 µs\n",
      "CPU times: user 0 ns, sys: 0 ns, total: 0 ns\n",
      "Wall time: 545 µs\n"
     ]
    },
    {
     "data": {
      "text/plain": [
       "array([[ 0.        ,  5.19615242],\n",
       "       [ 5.19615242,  0.        ],\n",
       "       [10.39230485,  5.19615242]])"
      ]
     },
     "execution_count": 4,
     "metadata": {},
     "output_type": "execute_result"
    }
   ],
   "source": [
    "a = np.array([[1,2,3],\n",
    "              [4,5,6]])\n",
    "b = np.array([[1,2,3],\n",
    "              [4,5,6],\n",
    "              [7,8,9]])\n",
    "print(a.shape, b.shape)\n",
    "# print(a)\n",
    "# print(b)\n",
    "%time print MySqDist(b,a)\n",
    "from sklearn.metrics.pairwise import euclidean_distances\n",
    "%time euclidean_distances(b, a)"
   ]
  },
  {
   "cell_type": "code",
   "execution_count": 5,
   "metadata": {},
   "outputs": [
    {
     "name": "stdout",
     "output_type": "stream",
     "text": [
      "CPU times: user 35.3 s, sys: 5.14 s, total: 40.4 s\n",
      "Wall time: 11.9 s\n"
     ]
    }
   ],
   "source": [
    "%time cached_cpreds = MySqDist(Xtrn, Xtst)"
   ]
  },
  {
   "cell_type": "code",
   "execution_count": 157,
   "metadata": {},
   "outputs": [],
   "source": [
    "def my_knn_classify_old(Xtrn, Ctrn, Xtst, Ks):\n",
    "    # Input:\n",
    "    #   Xtrn : M-by-D ndarray of training data (dtype=np.float_)\n",
    "    #   Ctrn : M-by-1 ndarray of labels for Xtrn (dtype=np.int_)\n",
    "    #   Xtst : N-by-D ndarray of test data (dtype=np.float_)\n",
    "    #   Ks   : List of the numbers of nearest neighbours in Xtrn\n",
    "    # Output:\n",
    "    #  Cpreds : N-by-L ndarray of predicted labels for Xtst (dtype=np.int_)\n",
    "    \n",
    "#     Cpreds_shape = (Ks.shape, Xtst.shape[0])\n",
    "    \n",
    "    Cpreds = np.empty((0, Xtst.shape[0]))\n",
    "#     print Cpreds.shape\n",
    "#     print Cpreds\n",
    "    \n",
    "#     (x, y) = cached_cpreds.shape\n",
    "    \n",
    "#     cl_type = np.dtype([('sqdist', np.float_, (x,)), ('class', np.int_, 1)])           # specify end type\n",
    "    \n",
    "#     dists = np.empty((x,), dtype=cl_type)\n",
    "    \n",
    "    d = cached_cpreds[:2000]\n",
    "    c = Ctrn[:2000]\n",
    "    \n",
    "#     print d[:10]\n",
    "    cl_sort = np.argsort(d, axis=0)     # get minimum value indices as columns\n",
    "    \n",
    "    for (i, k) in enumerate(Ks):\n",
    "        inds = cl_sort[:k]                                        # grab k nearest from columns\n",
    "#         print inds\n",
    "#         print inds\n",
    "#         print Ctrn[inds][:,]\n",
    "    \n",
    "#         print Counter(np.array([1,2,1]))\n",
    "    \n",
    "#         print Ctrn[inds][0:2,0:]\n",
    "        preds = np.apply_along_axis(lambda x: max(Counter(x)), 1, Ctrn[inds].T[0]).T.reshape(1, Xtst.shape[0])    # count occurrences \n",
    "        \n",
    "#         print preds.shape\n",
    "#         print preds\n",
    "    \n",
    "        Cpreds = np.concatenate((Cpreds[:i], preds, Cpreds[i:]))\n",
    "        \n",
    "#         for row in Ctrn[inds].T[0].T:\n",
    "#             unique, counts = np.unique(row, return_counts=True)\n",
    "#             Cpreds.append(max(zip(unique, counts)))\n",
    "\n",
    "#         unique, counts = np.unique(Ctrn[inds].T[0].T, return_counts=True)\n",
    "        \n",
    "#         print zip(unique, counts)\n",
    "    \n",
    "#         print Counter(map(tuple, Ctrn[inds].T[0].T))\n",
    "        \n",
    "#         print Counter([1,2,1,3])\n",
    "#         print Counter(Ctrn[inds].T.tolist())\n",
    "#         unique, counts = np.unique(Ctrn[inds][:,], return_counts=True)  # count occurrences\n",
    "#         cs = dict(zip(unique, counts))                              #\n",
    "        \n",
    "#         print cs\n",
    "#         print(sorted(cs, key=cs.get))\n",
    "#         print(max(cs, key=cs.get))\n",
    "        \n",
    "#         for \n",
    "        \n",
    "#         Cpreds.append(max(cs, key=cs.get))\n",
    "#         add result to output var\n",
    "#         k_row.append(sorted(Counter(sorted_c[:k]).items())[0][0])\n",
    "#             k_row.append(Counter(sorted_c[:k]))\n",
    "\n",
    "#         Cpreds.append(k_row)\n",
    "#     Cpreds.append(dists)\n",
    "        \n",
    "    return Cpreds\n"
   ]
  },
  {
   "cell_type": "code",
   "execution_count": 200,
   "metadata": {},
   "outputs": [],
   "source": [
    "def my_knn_classify(Xtrn, Ctrn, Xtst, Ks, use_cache=False):\n",
    "    # Input:\n",
    "    #   Xtrn : M-by-D ndarray of training data (dtype=np.float_)\n",
    "    #   Ctrn : M-by-1 ndarray of labels for Xtrn (dtype=np.int_)\n",
    "    #   Xtst : N-by-D ndarray of test data (dtype=np.float_)\n",
    "    #   Ks   : List of the numbers of nearest neighbours in Xtrn\n",
    "    # Output:\n",
    "    #  Cpreds : N-by-L ndarray of predicted labels for Xtst (dtype=np.int_)\n",
    "    \n",
    "    Cpreds = np.empty((0, Xtst.shape[0]))               # set shape of prediction matrix\n",
    "    \n",
    "    if use_cache:                       # use caching system while developing to reduce computation time\n",
    "        try:\n",
    "            d = cached_cpreds[:10000]           # set distance matrix to cached\n",
    "        except Exception:\n",
    "            d = MySqDist(Xtrn, Xtst)    # cache does not exist, calculate distance matrix\n",
    "    else:\n",
    "        d = MySqDist(Xtrn, Xtst)        # no-cache mode, skip and calculate distance matrix\n",
    "    \n",
    "    cl_sort = np.argsort(d, axis=0, kind='quicksort')     # get minimum value indices as columns\n",
    "    \n",
    "    for (i, k) in enumerate(Ks):\n",
    "        inds = cl_sort[:k]      # grab k nearest from columns\n",
    "        \n",
    "        preds = np.apply_along_axis(    # apply counting function along each row\n",
    "            lambda x: max(Counter(x)),  # get most likely classification from possibilities\n",
    "            1, \n",
    "            Ctrn[inds].T[0]).T.reshape(1, Xtst.shape[0])\n",
    "#              |         |                   |\n",
    "#             \\/        \\/                  \\/\n",
    "#      grab letter    transpose      transpose the result,\n",
    "#      number from    and shed       reshape to allow for\n",
    "#    closest vector    a layer     concatenation with output\n",
    "\n",
    "#         preds = np.apply_along_axis(lambda x: max(Counter(x)), 1,Ctrn[inds].T[0]).T.reshape(1, Xtst.shape[0])\n",
    "# #              |         |                   |\n",
    "# #             \\/        \\/                  \\/\n",
    "# #      grab letter    transpose      transpose the result,\n",
    "# #      number from    and shed       reshape to allow for\n",
    "# #    closest vector    a layer     concatenation with output\n",
    "        \n",
    "        Cpreds = np.concatenate((Cpreds[:i], preds, Cpreds[i:]))\n",
    "        \n",
    "    return Cpreds\n"
   ]
  },
  {
   "cell_type": "code",
   "execution_count": 201,
   "metadata": {
    "scrolled": true
   },
   "outputs": [
    {
     "name": "stdout",
     "output_type": "stream",
     "text": [
      "CPU times: user 6.42 s, sys: 438 ms, total: 6.86 s\n",
      "Wall time: 6.86 s\n",
      "(1, 7800)\n",
      "[[14. 24. 19. ... 10.  5. 26.]]\n"
     ]
    }
   ],
   "source": [
    "%time knn_c = my_knn_classify(Xtrn, Ctrn, Xtst, np.array([2]), use_cache=True) # [0][1][0]).reshape(20,5)\n",
    "print knn_c.shape\n",
    "print knn_c\n"
   ]
  },
  {
   "cell_type": "code",
   "execution_count": null,
   "metadata": {},
   "outputs": [],
   "source": [
    "# %time knn_c = my_knn_classify(Xtrn, Ctrn, Xtst, [1,3,5,10,20]) # [0][1][0]).reshape(20,5)\n",
    "# knn_c"
   ]
  },
  {
   "cell_type": "code",
   "execution_count": null,
   "metadata": {
    "scrolled": false
   },
   "outputs": [],
   "source": [
    "# from sklearn.metrics.pairwise import euclidean_distances\n",
    "# %time np.square(euclidean_distances(Xtrn, Xtst))"
   ]
  },
  {
   "cell_type": "code",
   "execution_count": null,
   "metadata": {},
   "outputs": [],
   "source": [
    "# \"Minimal code for rendering a numpy array as an image in a Jupyter\n",
    "#  notebook in memory. Borrowed from the Deep Dream notebook.\"\n",
    "\n",
    "# https://gist.github.com/kylemcdonald/2f1b9a255993bf9b2629\n",
    "\n",
    "# used to display characters as images\n",
    "\n",
    "import PIL.Image\n",
    "from cStringIO import StringIO\n",
    "import IPython.display\n",
    "import numpy as np\n",
    "def showarray(a, fmt='png'):\n",
    "    a = np.uint8(a)\n",
    "    f = StringIO()\n",
    "    PIL.Image.fromarray(a).save(f, fmt)\n",
    "    IPython.display.display(IPython.display.Image(data=f.getvalue()))"
   ]
  },
  {
   "cell_type": "code",
   "execution_count": null,
   "metadata": {
    "scrolled": true
   },
   "outputs": [],
   "source": [
    "import string\n",
    "\n",
    "for (i, sample) in enumerate(Xtst255[:100]):\n",
    "    showarray(np.reshape(sample, (28, 28)).T)\n",
    "    c = int(Ctrn['class'][i])\n",
    "    print c\n",
    "    print string.ascii_uppercase\n",
    "    print(string.ascii_uppercase[c-1])\n",
    "# for pred in \n",
    "    \n",
    "# np.reshape(Xtrn[0], (28, 28))"
   ]
  },
  {
   "cell_type": "code",
   "execution_count": null,
   "metadata": {
    "scrolled": false
   },
   "outputs": [],
   "source": [
    "a = np.array([[1,2,3],\n",
    "              [4,5,6]])\n",
    "b = np.array([[1,2,3],\n",
    "              [4,5,6],\n",
    "              [7,8,9]])\n",
    "print(a.shape, b.shape)\n",
    "# print(a)\n",
    "# print(b)\n",
    "%time print MySqDist(b,a)\n",
    "from sklearn.metrics.pairwise import euclidean_distances\n",
    "%time euclidean_distances(b, a)"
   ]
  },
  {
   "cell_type": "code",
   "execution_count": null,
   "metadata": {},
   "outputs": [],
   "source": [
    "from sklearn.neighbors import NearestNeighbors\n",
    "\n",
    "nbrs = NearestNeighbors(n_neighbors=2, algorithm='auto').fit(Xtrn[:100])\n",
    "distances, indices = nbrs.kneighbors(Xtrn)\n",
    "\n",
    "print distances"
   ]
  },
  {
   "cell_type": "code",
   "execution_count": null,
   "metadata": {},
   "outputs": [],
   "source": [
    "zzzz = np.array([[1,2,3,4,5],\n",
    "                 [1,1,1,1,2],\n",
    "                 [2,2,4,1,3]])\n",
    "# zzzz = zzzz + zzzz.T\n",
    "\n",
    "\n",
    "print zzzz\n",
    "\n",
    "# zzz = Counter(np.argsort(zzzz, axis=0)[:3])\n",
    "\n",
    "print np.argsort(zzzz, axis=0)[:3]\n",
    "\n",
    "for row in np.argsort(zzzz, axis=0)[:3].T:\n",
    "#     print row\n",
    "    print Ctrn[0], Ctrn[40], Ctrn[30], \n",
    "    print Ctrn[[0,40,30]]\n",
    "    print \"\"\n",
    "    unique, counts = np.unique(Ctrn[[0,40,30]], return_counts=True) # Ctrn[:5000][row]\n",
    "    print unique\n",
    "    print counts\n",
    "    print \"---\"\n",
    "#     print unique, counts\n",
    "    "
   ]
  },
  {
   "cell_type": "code",
   "execution_count": null,
   "metadata": {},
   "outputs": [],
   "source": []
  }
 ],
 "metadata": {
  "kernelspec": {
   "display_name": "Python 2",
   "language": "python",
   "name": "python2"
  },
  "language_info": {
   "codemirror_mode": {
    "name": "ipython",
    "version": 2
   },
   "file_extension": ".py",
   "mimetype": "text/x-python",
   "name": "python",
   "nbconvert_exporter": "python",
   "pygments_lexer": "ipython2",
   "version": "2.7.12"
  }
 },
 "nbformat": 4,
 "nbformat_minor": 2
}

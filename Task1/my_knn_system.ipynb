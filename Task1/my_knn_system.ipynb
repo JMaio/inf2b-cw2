{
 "cells": [
  {
   "cell_type": "code",
   "execution_count": 1,
   "metadata": {},
   "outputs": [],
   "source": [
    "#! /usr/bin/env python\n",
    "# A sample template for my_knn_system.py\n",
    "\n",
    "import numpy as np\n",
    "import scipy.io\n",
    "from my_knn_classify import *\n",
    "# import my_knn_classify as knnc\n",
    "\n",
    "from my_confusion import *\n",
    "import timeit\n",
    "\n"
   ]
  },
  {
   "cell_type": "code",
   "execution_count": 3,
   "metadata": {},
   "outputs": [
    {
     "name": "stdout",
     "output_type": "stream",
     "text": [
      "starting timer...\n",
      "running my_knn_classify...\n"
     ]
    },
    {
     "ename": "NameError",
     "evalue": "global name 'Cpreds' is not defined",
     "output_type": "error",
     "traceback": [
      "\u001b[0;31m---------------------------------------------------------------------------\u001b[0m",
      "\u001b[0;31mNameError\u001b[0m                                 Traceback (most recent call last)",
      "\u001b[0;32m<ipython-input-3-e3c1105135b4>\u001b[0m in \u001b[0;36m<module>\u001b[0;34m()\u001b[0m\n\u001b[1;32m     19\u001b[0m \u001b[0mkb\u001b[0m \u001b[0;34m=\u001b[0m \u001b[0;34m[\u001b[0m\u001b[0;36m1\u001b[0m\u001b[0;34m,\u001b[0m\u001b[0;36m3\u001b[0m\u001b[0;34m,\u001b[0m\u001b[0;36m5\u001b[0m\u001b[0;34m,\u001b[0m\u001b[0;36m10\u001b[0m\u001b[0;34m,\u001b[0m\u001b[0;36m20\u001b[0m\u001b[0;34m]\u001b[0m\u001b[0;34m;\u001b[0m\u001b[0;34m\u001b[0m\u001b[0m\n\u001b[1;32m     20\u001b[0m \u001b[0;32mprint\u001b[0m\u001b[0;34m(\u001b[0m\u001b[0;34m\"running my_knn_classify...\"\u001b[0m\u001b[0;34m)\u001b[0m\u001b[0;34m\u001b[0m\u001b[0m\n\u001b[0;32m---> 21\u001b[0;31m \u001b[0mCpreds\u001b[0m \u001b[0;34m=\u001b[0m \u001b[0mmy_knn_classify\u001b[0m\u001b[0;34m(\u001b[0m\u001b[0mXtrn\u001b[0m\u001b[0;34m,\u001b[0m \u001b[0mCtrn\u001b[0m\u001b[0;34m,\u001b[0m \u001b[0mXtst\u001b[0m\u001b[0;34m,\u001b[0m \u001b[0mkb\u001b[0m\u001b[0;34m)\u001b[0m\u001b[0;34m\u001b[0m\u001b[0m\n\u001b[0m\u001b[1;32m     22\u001b[0m \u001b[0;34m\u001b[0m\u001b[0m\n\u001b[1;32m     23\u001b[0m \u001b[0;31m#Measure the user time taken, and display it.\u001b[0m\u001b[0;34m\u001b[0m\u001b[0;34m\u001b[0m\u001b[0m\n",
      "\u001b[0;32m/mnt/c/github/inf2b-cw2/Task1/my_knn_classify.py\u001b[0m in \u001b[0;36mmy_knn_classify\u001b[0;34m(Xtrn, Ctrn, Xtst, Ks)\u001b[0m\n\u001b[1;32m     10\u001b[0m     \u001b[0;31m#  Cpreds : N-by-L ndarray of predicted labels for Xtst (dtype=np.int_)\u001b[0m\u001b[0;34m\u001b[0m\u001b[0;34m\u001b[0m\u001b[0m\n\u001b[1;32m     11\u001b[0m \u001b[0;34m\u001b[0m\u001b[0m\n\u001b[0;32m---> 12\u001b[0;31m     \u001b[0;32mreturn\u001b[0m \u001b[0mCpreds\u001b[0m\u001b[0;34m\u001b[0m\u001b[0m\n\u001b[0m",
      "\u001b[0;31mNameError\u001b[0m: global name 'Cpreds' is not defined"
     ]
    }
   ],
   "source": [
    "# Load the data set\n",
    "#   NB: replace <UUN> with your actual UUN.\n",
    "# filename = \"/afs/inf.ed.ac.uk/group/teaching/inf2b/cwk2/d/s1621503/data.mat\";\n",
    "filename = \"../data.mat\"\n",
    "data = scipy.io.loadmat(filename);\n",
    "\n",
    "# Feature vectors: Convert uint8 to double, and divide by 255.\n",
    "Xtrn = data['dataset']['train'][0,0]['images'][0,0].astype(dtype=np.float_) /255.0\n",
    "Xtst = data['dataset']['test'][0,0]['images'][0,0].astype(dtype=np.float_) /255.0\n",
    "# Labels : convert float64 to integer, and subtract 1 so that class number starts at 0 rather than 1.\n",
    "Ctrn = data['dataset']['train'][0,0]['labels'][0,0].astype(dtype=np.int_)-1\n",
    "Ctst = data['dataset']['test'][0,0]['labels'][0,0].astype(dtype=np.int_)-1\n",
    "\n",
    "#Prepare measuring time\n",
    "print(\"starting timer...\")\n",
    "start_time = timeit.default_timer()\n",
    "\n",
    "# Run K-NN classification\n",
    "kb = [1,3,5,10,20];\n",
    "print(\"running my_knn_classify...\")\n",
    "Cpreds = my_knn_classify(Xtrn, Ctrn, Xtst, kb)\n",
    "\n",
    "#Measure the user time taken, and display it.\n",
    "print(\"running my_knn_classify...\")\n",
    "elapsed = timeit.default_timer() - start_time\n",
    "print(\"time elapsed: %s\" % str(elapsed))\n",
    "\n",
    "#YourCode - Get confusion matrix and accuracy for each k in kb.\n",
    "\n",
    "#YourCode - Save each confusion matrix.\n",
    "\n",
    "#YourCode - Display the required information - k, N, Nerrs, acc for each element of kb\n"
   ]
  },
  {
   "cell_type": "code",
   "execution_count": null,
   "metadata": {},
   "outputs": [],
   "source": []
  }
 ],
 "metadata": {
  "kernelspec": {
   "display_name": "Python 2",
   "language": "python",
   "name": "python2"
  },
  "language_info": {
   "codemirror_mode": {
    "name": "ipython",
    "version": 2
   },
   "file_extension": ".py",
   "mimetype": "text/x-python",
   "name": "python",
   "nbconvert_exporter": "python",
   "pygments_lexer": "ipython2",
   "version": "2.7.12"
  }
 },
 "nbformat": 4,
 "nbformat_minor": 2
}

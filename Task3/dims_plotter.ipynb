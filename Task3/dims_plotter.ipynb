{
 "cells": [
  {
   "cell_type": "code",
   "execution_count": 9,
   "metadata": {},
   "outputs": [],
   "source": [
    "import numpy as np\n",
    "import scipy.io\n",
    "import time\n",
    "from my_improved_gaussian_classify import *\n",
    "from my_confusion import *\n",
    "\n",
    "import matplotlib.pyplot as plt"
   ]
  },
  {
   "cell_type": "code",
   "execution_count": 2,
   "metadata": {},
   "outputs": [
    {
     "name": "stdout",
     "output_type": "stream",
     "text": [
      "couldn't load data from afs! loading local data...\n"
     ]
    }
   ],
   "source": [
    "# ___________________________ begin actual system ___________________________ #\n",
    "# Load the data set\n",
    "filename = \"/afs/inf.ed.ac.uk/group/teaching/inf2b/cwk2/d/s1621503/data.mat\";\n",
    "# use local data set while not connected to afs\n",
    "try:\n",
    "    data = scipy.io.loadmat(filename)\n",
    "    print(\"loaded data from afs!\")\n",
    "except Exception:\n",
    "    data = scipy.io.loadmat(\"../data.mat\")\n",
    "    print(\"couldn't load data from afs! loading local data...\")\n",
    "\n",
    "# Feature vectors: Convert uint8 to double, and divide by 255\n",
    "Xtrn = data['dataset']['train'][0, 0]['images'][0, 0].astype(dtype=np.float_) / 255.0\n",
    "Xtst = data['dataset']['test'][0, 0]['images'][0, 0].astype(dtype=np.float_) / 255.0\n",
    "# Labels : convert float64 to integer, and subtract 1 so that class number starts at 0 rather than 1\n",
    "Ctrn = data['dataset']['train'][0, 0]['labels'][0, 0].astype(dtype=np.int_) - 1\n",
    "Ctst = data['dataset']['test'][0, 0]['labels'][0, 0].astype(dtype=np.int_) - 1"
   ]
  },
  {
   "cell_type": "code",
   "execution_count": 6,
   "metadata": {},
   "outputs": [],
   "source": [
    "dims = np.arange(26) + 1\n",
    "results = np.zeros((26))\n",
    "epsilon = epsilon_pca = 1e-10"
   ]
  },
  {
   "cell_type": "code",
   "execution_count": 23,
   "metadata": {
    "scrolled": true
   },
   "outputs": [
    {
     "name": "stdout",
     "output_type": "stream",
     "text": [
      "running with dims=22, ε=1.0e-10\n",
      "covariance matrices (784x784)x26: 2841.03s\n",
      "eigenvectors: 120.61s\n",
      "PCA transforms: 5.05s\n",
      "covariance matrices (22x22)x26: 0.20s\n",
      "computing class likelihoods: # 0\n",
      "                             # 1\n",
      "                             # 2\n",
      "                             # 3\n",
      "                             # 4\n",
      "                             # 5\n",
      "                             # 6\n",
      "                             # 7\n",
      "                             # 8\n",
      "                             # 9\n",
      "                             # 10\n",
      "                             # 11\n",
      "                             # 12\n",
      "                             # 13\n",
      "                             # 14\n",
      "                             # 15\n",
      "                             # 16\n",
      "                             # 17\n",
      "                             # 18\n",
      "                             # 19\n",
      "                             # 20\n",
      "                             # 21\n",
      "                             # 22\n",
      "                             # 23\n",
      "                             # 24\n",
      "                             # 25\n",
      "classes: 3.67s\n",
      "dims = 22, ε = 1e-10, N = 7800, Nerrs = 1328, acc = 82.96%\n",
      "running with dims=23, ε=1.0e-10\n",
      "covariance matrices (784x784)x26: 2975.94s\n",
      "eigenvectors: 117.27s\n",
      "PCA transforms: 6.55s\n",
      "covariance matrices (23x23)x26: 0.16s\n",
      "computing class likelihoods: # 0\n",
      "                             # 1\n",
      "                             # 2\n",
      "                             # 3\n",
      "                             # 4\n",
      "                             # 5\n",
      "                             # 6\n",
      "                             # 7\n",
      "                             # 8\n",
      "                             # 9\n",
      "                             # 10\n",
      "                             # 11\n",
      "                             # 12\n",
      "                             # 13\n",
      "                             # 14\n",
      "                             # 15\n",
      "                             # 16\n",
      "                             # 17\n",
      "                             # 18\n",
      "                             # 19\n",
      "                             # 20\n",
      "                             # 21\n",
      "                             # 22\n",
      "                             # 23\n",
      "                             # 24\n",
      "                             # 25\n",
      "classes: 3.16s\n",
      "dims = 23, ε = 1e-10, N = 7800, Nerrs = 1279, acc = 83.60%\n",
      "running with dims=24, ε=1.0e-10\n",
      "covariance matrices (784x784)x26: 3108.12s\n",
      "eigenvectors: 78.61s\n",
      "PCA transforms: 6.69s\n",
      "covariance matrices (24x24)x26: 0.16s\n",
      "computing class likelihoods: # 0\n",
      "                             # 1\n",
      "                             # 2\n",
      "                             # 3\n",
      "                             # 4\n",
      "                             # 5\n",
      "                             # 6\n",
      "                             # 7\n",
      "                             # 8\n",
      "                             # 9\n",
      "                             # 10\n",
      "                             # 11\n",
      "                             # 12\n",
      "                             # 13\n",
      "                             # 14\n",
      "                             # 15\n",
      "                             # 16\n",
      "                             # 17\n",
      "                             # 18\n",
      "                             # 19\n",
      "                             # 20\n",
      "                             # 21\n",
      "                             # 22\n",
      "                             # 23\n",
      "                             # 24\n",
      "                             # 25\n",
      "classes: 3.02s\n",
      "dims = 24, ε = 1e-10, N = 7800, Nerrs = 1263, acc = 83.81%\n",
      "running with dims=25, ε=1.0e-10\n",
      "covariance matrices (784x784)x26: 3200.34s\n",
      "eigenvectors: 113.11s\n",
      "PCA transforms: 3.31s\n",
      "covariance matrices (25x25)x26: 0.14s\n",
      "computing class likelihoods: # 0\n",
      "                             # 1\n",
      "                             # 2\n",
      "                             # 3\n",
      "                             # 4\n",
      "                             # 5\n",
      "                             # 6\n",
      "                             # 7\n",
      "                             # 8\n",
      "                             # 9\n",
      "                             # 10\n",
      "                             # 11\n",
      "                             # 12\n",
      "                             # 13\n",
      "                             # 14\n",
      "                             # 15\n",
      "                             # 16\n",
      "                             # 17\n",
      "                             # 18\n",
      "                             # 19\n",
      "                             # 20\n",
      "                             # 21\n",
      "                             # 22\n",
      "                             # 23\n",
      "                             # 24\n",
      "                             # 25\n",
      "classes: 5.00s\n",
      "dims = 25, ε = 1e-10, N = 7800, Nerrs = 1209, acc = 84.50%\n"
     ]
    },
    {
     "ename": "IndexError",
     "evalue": "index 26 is out of bounds for axis 0 with size 26",
     "output_type": "error",
     "traceback": [
      "\u001b[0;31m---------------------------------------------------------------------------\u001b[0m",
      "\u001b[0;31mIndexError\u001b[0m                                Traceback (most recent call last)",
      "\u001b[0;32m<ipython-input-23-0d7e361b5b4c>\u001b[0m in \u001b[0;36m<module>\u001b[0;34m()\u001b[0m\n\u001b[1;32m      1\u001b[0m \u001b[0;32mfor\u001b[0m \u001b[0mdim\u001b[0m \u001b[0;32min\u001b[0m \u001b[0mdims\u001b[0m\u001b[0;34m:\u001b[0m\u001b[0;34m\u001b[0m\u001b[0m\n\u001b[0;32m----> 2\u001b[0;31m     \u001b[0;32mif\u001b[0m \u001b[0;32mnot\u001b[0m \u001b[0mresults\u001b[0m\u001b[0;34m[\u001b[0m\u001b[0mdim\u001b[0m\u001b[0;34m]\u001b[0m\u001b[0;34m:\u001b[0m\u001b[0;34m\u001b[0m\u001b[0m\n\u001b[0m\u001b[1;32m      3\u001b[0m         print(\"running with dims=%2d, ε=%.1e\"\n\u001b[1;32m      4\u001b[0m                         % (dim, epsilon))\n\u001b[1;32m      5\u001b[0m         (_, Cpreds) = my_improved_gaussian_classify(Xtrn, Ctrn, Xtst, dims=dim,\n",
      "\u001b[0;31mIndexError\u001b[0m: index 26 is out of bounds for axis 0 with size 26"
     ]
    }
   ],
   "source": [
    "for dim in dims:\n",
    "    if not results[dim]:\n",
    "        print(\"running with dims=%2d, ε=%.1e\"\n",
    "                        % (dim, epsilon))\n",
    "        (_, Cpreds) = my_improved_gaussian_classify(Xtrn, Ctrn, Xtst, dims=dim,\n",
    "                                               epsilon=epsilon, epsilon_pca=epsilon_pca)\n",
    "        # Get a confusion matrix and accuracy\n",
    "        CM, acc = my_confusion(Ctst, Cpreds)\n",
    "\n",
    "        N = Xtst.shape[0]\n",
    "        print(\"dims = %2d, ε = %.0e, N = %d, Nerrs = %4d, acc = %.2f%%\" \\\n",
    "            % (dim, epsilon, N, N * (1 - acc), acc*100))\n",
    "        \n",
    "        results[dim] = (acc*100)\n",
    "    else:\n",
    "        pass"
   ]
  },
  {
   "cell_type": "code",
   "execution_count": 30,
   "metadata": {},
   "outputs": [
    {
     "data": {
      "image/png": "[encoded data removed]",
      "text/plain": [
       "<Figure size 432x288 with 1 Axes>"
      ]
     },
     "metadata": {},
     "output_type": "display_data"
    }
   ],
   "source": [
    "dims_plot = dims[results != 0]\n",
    "results_plot = results[results != 0]\n",
    "\n",
    "plt.xlim(dims[0], dims[-1] + 1)\n",
    "plt.ylim(0, 1)\n",
    "\n",
    "plt.xlabel('reduced dimensions')\n",
    "plt.ylabel('accuracy')\n",
    "\n",
    "plt.plot(dims_plot, results_plot / 100.0, color='red')\n",
    "\n",
    "plt.show()"
   ]
  },
  {
   "cell_type": "code",
   "execution_count": null,
   "metadata": {},
   "outputs": [],
   "source": []
  }
 ],
 "metadata": {
  "kernelspec": {
   "display_name": "Python 3",
   "language": "python",
   "name": "python3"
  },
  "language_info": {
   "codemirror_mode": {
    "name": "ipython",
    "version": 3
   },
   "file_extension": ".py",
   "mimetype": "text/x-python",
   "name": "python",
   "nbconvert_exporter": "python",
   "pygments_lexer": "ipython3",
   "version": "3.5.2"
  }
 },
 "nbformat": 4,
 "nbformat_minor": 2
}

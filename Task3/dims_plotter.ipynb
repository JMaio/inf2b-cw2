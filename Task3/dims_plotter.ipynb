{
 "cells": [
  {
   "cell_type": "code",
   "execution_count": 1,
   "metadata": {},
   "outputs": [],
   "source": [
    "import numpy as np\n",
    "import scipy.io\n",
    "import time\n",
    "from my_improved_gaussian_classify import *\n",
    "from my_confusion import *"
   ]
  },
  {
   "cell_type": "code",
   "execution_count": 2,
   "metadata": {},
   "outputs": [
    {
     "name": "stdout",
     "output_type": "stream",
     "text": [
      "couldn't load data from afs! loading local data...\n"
     ]
    }
   ],
   "source": [
    "# ___________________________ begin actual system ___________________________ #\n",
    "# Load the data set\n",
    "filename = \"/afs/inf.ed.ac.uk/group/teaching/inf2b/cwk2/d/s1621503/data.mat\";\n",
    "# use local data set while not connected to afs\n",
    "try:\n",
    "    data = scipy.io.loadmat(filename)\n",
    "    print(\"loaded data from afs!\")\n",
    "except Exception:\n",
    "    data = scipy.io.loadmat(\"../data.mat\")\n",
    "    print(\"couldn't load data from afs! loading local data...\")\n",
    "\n",
    "# Feature vectors: Convert uint8 to double, and divide by 255\n",
    "Xtrn = data['dataset']['train'][0, 0]['images'][0, 0].astype(dtype=np.float_) / 255.0\n",
    "Xtst = data['dataset']['test'][0, 0]['images'][0, 0].astype(dtype=np.float_) / 255.0\n",
    "# Labels : convert float64 to integer, and subtract 1 so that class number starts at 0 rather than 1\n",
    "Ctrn = data['dataset']['train'][0, 0]['labels'][0, 0].astype(dtype=np.int_) - 1\n",
    "Ctst = data['dataset']['test'][0, 0]['labels'][0, 0].astype(dtype=np.int_) - 1"
   ]
  },
  {
   "cell_type": "code",
   "execution_count": 6,
   "metadata": {},
   "outputs": [],
   "source": [
    "dims = np.arange(26) + 1\n",
    "results = np.zeros((26))\n",
    "epsilon = epsilon_pca = 1e-10"
   ]
  },
  {
   "cell_type": "code",
   "execution_count": null,
   "metadata": {},
   "outputs": [
    {
     "name": "stdout",
     "output_type": "stream",
     "text": [
      "running with dims= 1, ε=1.0e-10\n"
     ]
    }
   ],
   "source": [
    "for dim in dims[:2]:\n",
    "    if not results[dim]:\n",
    "        print(\"running with dims=%2d, ε=%.1e\"\n",
    "                        % (dim, epsilon))\n",
    "        (_, Cpreds) = my_improved_gaussian_classify(Xtrn, Ctrn, Xtst, dims=dim,\n",
    "                                               epsilon=epsilon, epsilon_pca=epsilon_pca)\n",
    "        # Get a confusion matrix and accuracy\n",
    "        CM, acc = my_confusion(Ctst, Cpreds)\n",
    "\n",
    "        N = Xtst.shape[0]\n",
    "        print(\"dims = %2d, ε = %.0e, N = %d, Nerrs = %4d, acc = %.2f%%\" \\\n",
    "            % (dim, epsilon, N, N * (1 - acc), acc*100))\n",
    "        \n",
    "        results[dim] = (acc*100)\n",
    "    else:\n",
    "        pass"
   ]
  },
  {
   "cell_type": "code",
   "execution_count": null,
   "metadata": {},
   "outputs": [],
   "source": []
  }
 ],
 "metadata": {
  "kernelspec": {
   "display_name": "Python 3",
   "language": "python",
   "name": "python3"
  },
  "language_info": {
   "codemirror_mode": {
    "name": "ipython",
    "version": 3
   },
   "file_extension": ".py",
   "mimetype": "text/x-python",
   "name": "python",
   "nbconvert_exporter": "python",
   "pygments_lexer": "ipython3",
   "version": "3.5.2"
  }
 },
 "nbformat": 4,
 "nbformat_minor": 2
}
